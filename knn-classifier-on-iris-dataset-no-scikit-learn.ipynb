{
 "cells": [
  {
   "cell_type": "code",
   "execution_count": 1,
   "id": "d531289e",
   "metadata": {
    "_cell_guid": "b1076dfc-b9ad-4769-8c92-a6c4dae69d19",
    "_uuid": "8f2839f25d086af736a60e9eeb907d3b93b6e0e5",
    "execution": {
     "iopub.execute_input": "2025-08-20T11:24:26.202048Z",
     "iopub.status.busy": "2025-08-20T11:24:26.201650Z",
     "iopub.status.idle": "2025-08-20T11:24:27.890614Z",
     "shell.execute_reply": "2025-08-20T11:24:27.889783Z"
    },
    "papermill": {
     "duration": 1.697379,
     "end_time": "2025-08-20T11:24:27.892055",
     "exception": false,
     "start_time": "2025-08-20T11:24:26.194676",
     "status": "completed"
    },
    "tags": []
   },
   "outputs": [
    {
     "name": "stdout",
     "output_type": "stream",
     "text": [
      "/kaggle/input/iris-dataset/iris.csv\n"
     ]
    }
   ],
   "source": [
    "# This Python 3 environment comes with many helpful analytics libraries installed\n",
    "# It is defined by the kaggle/python Docker image: https://github.com/kaggle/docker-python\n",
    "# For example, here's several helpful packages to load\n",
    "\n",
    "import numpy as np # linear algebra\n",
    "import pandas as pd # data processing, CSV file I/O (e.g. pd.read_csv)\n",
    "\n",
    "# Input data files are available in the read-only \"../input/\" directory\n",
    "# For example, running this (by clicking run or pressing Shift+Enter) will list all files under the input directory\n",
    "\n",
    "import os\n",
    "for dirname, _, filenames in os.walk('/kaggle/input'):\n",
    "    for filename in filenames:\n",
    "        print(os.path.join(dirname, filename))\n",
    "\n",
    "# You can write up to 20GB to the current directory (/kaggle/working/) that gets preserved as output when you create a version using \"Save & Run All\" \n",
    "# You can also write temporary files to /kaggle/temp/, but they won't be saved outside of the current session"
   ]
  },
  {
   "cell_type": "markdown",
   "id": "bba1d4b1",
   "metadata": {
    "papermill": {
     "duration": 0.004794,
     "end_time": "2025-08-20T11:24:27.902155",
     "exception": false,
     "start_time": "2025-08-20T11:24:27.897361",
     "status": "completed"
    },
    "tags": []
   },
   "source": [
    "Loading the Iris dataset"
   ]
  },
  {
   "cell_type": "code",
   "execution_count": 2,
   "id": "1b3bdbe1",
   "metadata": {
    "execution": {
     "iopub.execute_input": "2025-08-20T11:24:27.913265Z",
     "iopub.status.busy": "2025-08-20T11:24:27.912487Z",
     "iopub.status.idle": "2025-08-20T11:24:27.963917Z",
     "shell.execute_reply": "2025-08-20T11:24:27.963014Z"
    },
    "papermill": {
     "duration": 0.058346,
     "end_time": "2025-08-20T11:24:27.965311",
     "exception": false,
     "start_time": "2025-08-20T11:24:27.906965",
     "status": "completed"
    },
    "tags": []
   },
   "outputs": [
    {
     "data": {
      "text/html": [
       "<div>\n",
       "<style scoped>\n",
       "    .dataframe tbody tr th:only-of-type {\n",
       "        vertical-align: middle;\n",
       "    }\n",
       "\n",
       "    .dataframe tbody tr th {\n",
       "        vertical-align: top;\n",
       "    }\n",
       "\n",
       "    .dataframe thead th {\n",
       "        text-align: right;\n",
       "    }\n",
       "</style>\n",
       "<table border=\"1\" class=\"dataframe\">\n",
       "  <thead>\n",
       "    <tr style=\"text-align: right;\">\n",
       "      <th></th>\n",
       "      <th>sepal_length</th>\n",
       "      <th>sepal_width</th>\n",
       "      <th>petal_length</th>\n",
       "      <th>petal_width</th>\n",
       "      <th>species</th>\n",
       "    </tr>\n",
       "  </thead>\n",
       "  <tbody>\n",
       "    <tr>\n",
       "      <th>0</th>\n",
       "      <td>5.1</td>\n",
       "      <td>3.5</td>\n",
       "      <td>1.4</td>\n",
       "      <td>0.2</td>\n",
       "      <td>setosa</td>\n",
       "    </tr>\n",
       "    <tr>\n",
       "      <th>1</th>\n",
       "      <td>4.9</td>\n",
       "      <td>3.0</td>\n",
       "      <td>1.4</td>\n",
       "      <td>0.2</td>\n",
       "      <td>setosa</td>\n",
       "    </tr>\n",
       "    <tr>\n",
       "      <th>2</th>\n",
       "      <td>4.7</td>\n",
       "      <td>3.2</td>\n",
       "      <td>1.3</td>\n",
       "      <td>0.2</td>\n",
       "      <td>setosa</td>\n",
       "    </tr>\n",
       "    <tr>\n",
       "      <th>3</th>\n",
       "      <td>4.6</td>\n",
       "      <td>3.1</td>\n",
       "      <td>1.5</td>\n",
       "      <td>0.2</td>\n",
       "      <td>setosa</td>\n",
       "    </tr>\n",
       "    <tr>\n",
       "      <th>4</th>\n",
       "      <td>5.0</td>\n",
       "      <td>3.6</td>\n",
       "      <td>1.4</td>\n",
       "      <td>0.2</td>\n",
       "      <td>setosa</td>\n",
       "    </tr>\n",
       "  </tbody>\n",
       "</table>\n",
       "</div>"
      ],
      "text/plain": [
       "   sepal_length  sepal_width  petal_length  petal_width species\n",
       "0           5.1          3.5           1.4          0.2  setosa\n",
       "1           4.9          3.0           1.4          0.2  setosa\n",
       "2           4.7          3.2           1.3          0.2  setosa\n",
       "3           4.6          3.1           1.5          0.2  setosa\n",
       "4           5.0          3.6           1.4          0.2  setosa"
      ]
     },
     "metadata": {},
     "output_type": "display_data"
    },
    {
     "name": "stdout",
     "output_type": "stream",
     "text": [
      "(150, 5)\n",
      "species\n",
      "setosa        50\n",
      "versicolor    50\n",
      "virginica     50\n",
      "Name: count, dtype: int64\n"
     ]
    }
   ],
   "source": [
    "import pandas as pd\n",
    "import numpy as np\n",
    "\n",
    "df = pd.read_csv('/kaggle/input/iris-dataset/iris.csv')\n",
    "\n",
    "display(df.head())\n",
    "print(df.shape)\n",
    "print(df['species'].value_counts())"
   ]
  },
  {
   "cell_type": "markdown",
   "id": "b310879f",
   "metadata": {
    "papermill": {
     "duration": 0.004741,
     "end_time": "2025-08-20T11:24:27.975567",
     "exception": false,
     "start_time": "2025-08-20T11:24:27.970826",
     "status": "completed"
    },
    "tags": []
   },
   "source": [
    "BASIC EDA to ensure there are no missing values in the data"
   ]
  },
  {
   "cell_type": "code",
   "execution_count": 3,
   "id": "702b2b98",
   "metadata": {
    "execution": {
     "iopub.execute_input": "2025-08-20T11:24:27.986368Z",
     "iopub.status.busy": "2025-08-20T11:24:27.986076Z",
     "iopub.status.idle": "2025-08-20T11:24:28.014034Z",
     "shell.execute_reply": "2025-08-20T11:24:28.013186Z"
    },
    "papermill": {
     "duration": 0.035036,
     "end_time": "2025-08-20T11:24:28.015401",
     "exception": false,
     "start_time": "2025-08-20T11:24:27.980365",
     "status": "completed"
    },
    "tags": []
   },
   "outputs": [
    {
     "name": "stdout",
     "output_type": "stream",
     "text": [
      "sepal_length    0\n",
      "sepal_width     0\n",
      "petal_length    0\n",
      "petal_width     0\n",
      "species         0\n",
      "dtype: int64\n"
     ]
    },
    {
     "data": {
      "text/html": [
       "<div>\n",
       "<style scoped>\n",
       "    .dataframe tbody tr th:only-of-type {\n",
       "        vertical-align: middle;\n",
       "    }\n",
       "\n",
       "    .dataframe tbody tr th {\n",
       "        vertical-align: top;\n",
       "    }\n",
       "\n",
       "    .dataframe thead th {\n",
       "        text-align: right;\n",
       "    }\n",
       "</style>\n",
       "<table border=\"1\" class=\"dataframe\">\n",
       "  <thead>\n",
       "    <tr style=\"text-align: right;\">\n",
       "      <th></th>\n",
       "      <th>sepal_length</th>\n",
       "      <th>sepal_width</th>\n",
       "      <th>petal_length</th>\n",
       "      <th>petal_width</th>\n",
       "    </tr>\n",
       "  </thead>\n",
       "  <tbody>\n",
       "    <tr>\n",
       "      <th>count</th>\n",
       "      <td>150.000000</td>\n",
       "      <td>150.000000</td>\n",
       "      <td>150.000000</td>\n",
       "      <td>150.000000</td>\n",
       "    </tr>\n",
       "    <tr>\n",
       "      <th>mean</th>\n",
       "      <td>5.843333</td>\n",
       "      <td>3.054000</td>\n",
       "      <td>3.758667</td>\n",
       "      <td>1.198667</td>\n",
       "    </tr>\n",
       "    <tr>\n",
       "      <th>std</th>\n",
       "      <td>0.828066</td>\n",
       "      <td>0.433594</td>\n",
       "      <td>1.764420</td>\n",
       "      <td>0.763161</td>\n",
       "    </tr>\n",
       "    <tr>\n",
       "      <th>min</th>\n",
       "      <td>4.300000</td>\n",
       "      <td>2.000000</td>\n",
       "      <td>1.000000</td>\n",
       "      <td>0.100000</td>\n",
       "    </tr>\n",
       "    <tr>\n",
       "      <th>25%</th>\n",
       "      <td>5.100000</td>\n",
       "      <td>2.800000</td>\n",
       "      <td>1.600000</td>\n",
       "      <td>0.300000</td>\n",
       "    </tr>\n",
       "    <tr>\n",
       "      <th>50%</th>\n",
       "      <td>5.800000</td>\n",
       "      <td>3.000000</td>\n",
       "      <td>4.350000</td>\n",
       "      <td>1.300000</td>\n",
       "    </tr>\n",
       "    <tr>\n",
       "      <th>75%</th>\n",
       "      <td>6.400000</td>\n",
       "      <td>3.300000</td>\n",
       "      <td>5.100000</td>\n",
       "      <td>1.800000</td>\n",
       "    </tr>\n",
       "    <tr>\n",
       "      <th>max</th>\n",
       "      <td>7.900000</td>\n",
       "      <td>4.400000</td>\n",
       "      <td>6.900000</td>\n",
       "      <td>2.500000</td>\n",
       "    </tr>\n",
       "  </tbody>\n",
       "</table>\n",
       "</div>"
      ],
      "text/plain": [
       "       sepal_length  sepal_width  petal_length  petal_width\n",
       "count    150.000000   150.000000    150.000000   150.000000\n",
       "mean       5.843333     3.054000      3.758667     1.198667\n",
       "std        0.828066     0.433594      1.764420     0.763161\n",
       "min        4.300000     2.000000      1.000000     0.100000\n",
       "25%        5.100000     2.800000      1.600000     0.300000\n",
       "50%        5.800000     3.000000      4.350000     1.300000\n",
       "75%        6.400000     3.300000      5.100000     1.800000\n",
       "max        7.900000     4.400000      6.900000     2.500000"
      ]
     },
     "metadata": {},
     "output_type": "display_data"
    }
   ],
   "source": [
    "print(df.isna().sum())\n",
    "display(df.describe())"
   ]
  },
  {
   "cell_type": "markdown",
   "id": "b1cf4f0a",
   "metadata": {
    "papermill": {
     "duration": 0.005223,
     "end_time": "2025-08-20T11:24:28.026114",
     "exception": false,
     "start_time": "2025-08-20T11:24:28.020891",
     "status": "completed"
    },
    "tags": []
   },
   "source": [
    "Assigning numbers to labels so our code can work with them"
   ]
  },
  {
   "cell_type": "code",
   "execution_count": 4,
   "id": "db50f8a7",
   "metadata": {
    "execution": {
     "iopub.execute_input": "2025-08-20T11:24:28.039142Z",
     "iopub.status.busy": "2025-08-20T11:24:28.038310Z",
     "iopub.status.idle": "2025-08-20T11:24:28.049689Z",
     "shell.execute_reply": "2025-08-20T11:24:28.048754Z"
    },
    "papermill": {
     "duration": 0.019702,
     "end_time": "2025-08-20T11:24:28.051103",
     "exception": false,
     "start_time": "2025-08-20T11:24:28.031401",
     "status": "completed"
    },
    "tags": []
   },
   "outputs": [
    {
     "name": "stdout",
     "output_type": "stream",
     "text": [
      "(array([0, 1, 2]), array([50, 50, 50]))\n"
     ]
    }
   ],
   "source": [
    "assign_nums = {'setosa': 0, 'versicolor': 1, 'virginica': 2}\n",
    "reverse_assign = {value: key for key, value in assign_nums.items()}\n",
    "\n",
    "y = df['species'].map(assign_nums).to_numpy()\n",
    "x = df.drop(columns = ['species']).to_numpy(dtype = float)  # shape (150, 4)\n",
    "\n",
    "print(np.unique(y, return_counts = True))"
   ]
  },
  {
   "cell_type": "markdown",
   "id": "08598a8c",
   "metadata": {
    "papermill": {
     "duration": 0.005108,
     "end_time": "2025-08-20T11:24:28.061536",
     "exception": false,
     "start_time": "2025-08-20T11:24:28.056428",
     "status": "completed"
    },
    "tags": []
   },
   "source": [
    "TRAIN / VALIDATION / TEST"
   ]
  },
  {
   "cell_type": "code",
   "execution_count": 5,
   "id": "77562dcc",
   "metadata": {
    "execution": {
     "iopub.execute_input": "2025-08-20T11:24:28.073480Z",
     "iopub.status.busy": "2025-08-20T11:24:28.072677Z",
     "iopub.status.idle": "2025-08-20T11:24:28.080921Z",
     "shell.execute_reply": "2025-08-20T11:24:28.080227Z"
    },
    "papermill": {
     "duration": 0.015463,
     "end_time": "2025-08-20T11:24:28.082222",
     "exception": false,
     "start_time": "2025-08-20T11:24:28.066759",
     "status": "completed"
    },
    "tags": []
   },
   "outputs": [
    {
     "data": {
      "text/plain": [
       "((90, 4), (30, 4), (30, 4))"
      ]
     },
     "execution_count": 5,
     "metadata": {},
     "output_type": "execute_result"
    }
   ],
   "source": [
    "# we'll do 60% train, 20% validation and 20% test\n",
    "\n",
    "rng = np.random.default_rng(50)\n",
    "idx = np.arange(len(x))\n",
    "rng.shuffle(idx)\n",
    "x = x[idx]\n",
    "y = y[idx]\n",
    "\n",
    "n = len(x)\n",
    "n_train = int(0.6 * n)  # 60% train\n",
    "n_valid = int(0.2 * n)  # 20% validation\n",
    "\n",
    "x_train, y_train = x[:n_train], y[:n_train]\n",
    "x_valid, y_valid = x[n_train: n_train + n_valid], y[n_train: n_train + n_valid]\n",
    "x_test, y_test = x[n_train + n_valid:], y[n_train + n_valid:]\n",
    "\n",
    "x_train.shape, x_valid.shape, x_test.shape\n",
    "\n",
    "# validation set lets us pick the best hyperparameter without touching the test set"
   ]
  },
  {
   "cell_type": "markdown",
   "id": "482416ab",
   "metadata": {
    "papermill": {
     "duration": 0.005059,
     "end_time": "2025-08-20T11:24:28.092685",
     "exception": false,
     "start_time": "2025-08-20T11:24:28.087626",
     "status": "completed"
    },
    "tags": []
   },
   "source": [
    "STANDARDIZE FEATURES"
   ]
  },
  {
   "cell_type": "code",
   "execution_count": 6,
   "id": "49a6b279",
   "metadata": {
    "execution": {
     "iopub.execute_input": "2025-08-20T11:24:28.104336Z",
     "iopub.status.busy": "2025-08-20T11:24:28.104048Z",
     "iopub.status.idle": "2025-08-20T11:24:28.109396Z",
     "shell.execute_reply": "2025-08-20T11:24:28.108678Z"
    },
    "papermill": {
     "duration": 0.012864,
     "end_time": "2025-08-20T11:24:28.110706",
     "exception": false,
     "start_time": "2025-08-20T11:24:28.097842",
     "status": "completed"
    },
    "tags": []
   },
   "outputs": [],
   "source": [
    "mu = x.mean(axis = 0)\n",
    "sigma = x_train.std(axis = 0, ddof = 0)\n",
    "sigma[sigma == 0] = 1.0\n",
    "# finds all elements in the sigma array that are equal to zero and replaces them with 1.0\n",
    "\n",
    "def standardize(x, mu, sigma):\n",
    "    return (x - mu) / sigma\n",
    "\n",
    "x_train_s = standardize(x_train, mu, sigma)\n",
    "x_valid_s = standardize(x_valid, mu, sigma)\n",
    "x_test_s = standardize(x_test, mu, sigma)\n",
    "\n",
    "#avoids data leakage and makes data distances meaningful"
   ]
  },
  {
   "cell_type": "markdown",
   "id": "b4fa468d",
   "metadata": {
    "papermill": {
     "duration": 0.004958,
     "end_time": "2025-08-20T11:24:28.121016",
     "exception": false,
     "start_time": "2025-08-20T11:24:28.116058",
     "status": "completed"
    },
    "tags": []
   },
   "source": [
    "KNN Implementation\n",
    "\n",
    "1) Distance Function"
   ]
  },
  {
   "cell_type": "code",
   "execution_count": 7,
   "id": "12122d62",
   "metadata": {
    "execution": {
     "iopub.execute_input": "2025-08-20T11:24:28.132664Z",
     "iopub.status.busy": "2025-08-20T11:24:28.132379Z",
     "iopub.status.idle": "2025-08-20T11:24:28.136638Z",
     "shell.execute_reply": "2025-08-20T11:24:28.135943Z"
    },
    "papermill": {
     "duration": 0.011647,
     "end_time": "2025-08-20T11:24:28.138016",
     "exception": false,
     "start_time": "2025-08-20T11:24:28.126369",
     "status": "completed"
    },
    "tags": []
   },
   "outputs": [],
   "source": [
    "import numpy as np\n",
    "from collections import Counter\n",
    "\n",
    "def euclidean_distance(a, b):\n",
    "    return np.sqrt(np.sum((a - b) ** 2))"
   ]
  },
  {
   "cell_type": "markdown",
   "id": "068812f8",
   "metadata": {
    "papermill": {
     "duration": 0.005287,
     "end_time": "2025-08-20T11:24:28.148672",
     "exception": false,
     "start_time": "2025-08-20T11:24:28.143385",
     "status": "completed"
    },
    "tags": []
   },
   "source": [
    "Single point prediction"
   ]
  },
  {
   "cell_type": "code",
   "execution_count": 8,
   "id": "1e0255af",
   "metadata": {
    "execution": {
     "iopub.execute_input": "2025-08-20T11:24:28.160232Z",
     "iopub.status.busy": "2025-08-20T11:24:28.159931Z",
     "iopub.status.idle": "2025-08-20T11:24:28.165330Z",
     "shell.execute_reply": "2025-08-20T11:24:28.164504Z"
    },
    "papermill": {
     "duration": 0.012754,
     "end_time": "2025-08-20T11:24:28.166643",
     "exception": false,
     "start_time": "2025-08-20T11:24:28.153889",
     "status": "completed"
    },
    "tags": []
   },
   "outputs": [],
   "source": [
    "def knn_single_prediction(x_train, y_train, z, k = 5):\n",
    "    distances = [(euclidean_distance(z, z_train), y) for z_train, y in zip(x_train, y_train)]\n",
    "    # all distances\n",
    "\n",
    "    distances.sort(key=lambda tup: tup[0])\n",
    "    #sort all distances\n",
    "\n",
    "    k_label = [label for _, label in distances[:k]]\n",
    "    #getting the k nearest neighbours\n",
    "\n",
    "    return Counter(k_label).most_common(1)[0][0]\n",
    "    #majority vote\n",
    "    "
   ]
  },
  {
   "cell_type": "markdown",
   "id": "c3dd743c",
   "metadata": {
    "papermill": {
     "duration": 0.005008,
     "end_time": "2025-08-20T11:24:28.177123",
     "exception": false,
     "start_time": "2025-08-20T11:24:28.172115",
     "status": "completed"
    },
    "tags": []
   },
   "source": [
    "Since we defined a function to predit for a single point, now let's loop over the function to predict for multiple points"
   ]
  },
  {
   "cell_type": "code",
   "execution_count": 9,
   "id": "618a0465",
   "metadata": {
    "execution": {
     "iopub.execute_input": "2025-08-20T11:24:28.188940Z",
     "iopub.status.busy": "2025-08-20T11:24:28.188389Z",
     "iopub.status.idle": "2025-08-20T11:24:28.192705Z",
     "shell.execute_reply": "2025-08-20T11:24:28.191932Z"
    },
    "papermill": {
     "duration": 0.011834,
     "end_time": "2025-08-20T11:24:28.194141",
     "exception": false,
     "start_time": "2025-08-20T11:24:28.182307",
     "status": "completed"
    },
    "tags": []
   },
   "outputs": [],
   "source": [
    "def knn_prediction(x_train, y_train, x, k = 5):\n",
    "    return np.array([knn_single_prediction(x_train, y_train, z, k) for z in x])"
   ]
  },
  {
   "cell_type": "markdown",
   "id": "cc89773e",
   "metadata": {
    "papermill": {
     "duration": 0.004887,
     "end_time": "2025-08-20T11:24:28.204345",
     "exception": false,
     "start_time": "2025-08-20T11:24:28.199458",
     "status": "completed"
    },
    "tags": []
   },
   "source": [
    "Accuracy function"
   ]
  },
  {
   "cell_type": "code",
   "execution_count": 10,
   "id": "7669713e",
   "metadata": {
    "execution": {
     "iopub.execute_input": "2025-08-20T11:24:28.215757Z",
     "iopub.status.busy": "2025-08-20T11:24:28.215462Z",
     "iopub.status.idle": "2025-08-20T11:24:28.219422Z",
     "shell.execute_reply": "2025-08-20T11:24:28.218741Z"
    },
    "papermill": {
     "duration": 0.011135,
     "end_time": "2025-08-20T11:24:28.220645",
     "exception": false,
     "start_time": "2025-08-20T11:24:28.209510",
     "status": "completed"
    },
    "tags": []
   },
   "outputs": [],
   "source": [
    "def accuracy(y_true, y_predicted):\n",
    "    return (y_true == y_predicted).mean()"
   ]
  },
  {
   "cell_type": "markdown",
   "id": "dcb8b07a",
   "metadata": {
    "papermill": {
     "duration": 0.005111,
     "end_time": "2025-08-20T11:24:28.231060",
     "exception": false,
     "start_time": "2025-08-20T11:24:28.225949",
     "status": "completed"
    },
    "tags": []
   },
   "source": [
    "Validation set test"
   ]
  },
  {
   "cell_type": "code",
   "execution_count": 11,
   "id": "46e42187",
   "metadata": {
    "execution": {
     "iopub.execute_input": "2025-08-20T11:24:28.242499Z",
     "iopub.status.busy": "2025-08-20T11:24:28.242209Z",
     "iopub.status.idle": "2025-08-20T11:24:28.395690Z",
     "shell.execute_reply": "2025-08-20T11:24:28.394663Z"
    },
    "papermill": {
     "duration": 0.161126,
     "end_time": "2025-08-20T11:24:28.397275",
     "exception": false,
     "start_time": "2025-08-20T11:24:28.236149",
     "status": "completed"
    },
    "tags": []
   },
   "outputs": [
    {
     "name": "stdout",
     "output_type": "stream",
     "text": [
      "k=1, validation accuracy=0.933\n",
      "k=3, validation accuracy=0.933\n",
      "k=5, validation accuracy=0.967\n",
      "k=7, validation accuracy=1.000\n",
      "k=9, validation accuracy=1.000\n",
      "k=11, validation accuracy=1.000\n",
      "k=13, validation accuracy=1.000\n",
      "k=15, validation accuracy=0.967\n",
      "Best k found:  7 with accuracy:  1.0\n"
     ]
    }
   ],
   "source": [
    "candidates = [1, 3, 5, 7, 9, 11, 13, 15]\n",
    "best_k, best_acc = None, -1\n",
    "\n",
    "for k in candidates:\n",
    "    valid_preds = knn_prediction(x_train_s, y_train, x_valid_s, k = k)\n",
    "    acc = accuracy(y_valid, valid_preds)\n",
    "\n",
    "    print(f\"k={k}, validation accuracy={acc:.3f}\")\n",
    "\n",
    "    if acc > best_acc:\n",
    "        best_acc, best_k = acc, k\n",
    "\n",
    "print(\"Best k found: \", best_k, \"with accuracy: \", round(best_acc, 3))"
   ]
  },
  {
   "cell_type": "markdown",
   "id": "426385de",
   "metadata": {
    "papermill": {
     "duration": 0.005174,
     "end_time": "2025-08-20T11:24:28.407960",
     "exception": false,
     "start_time": "2025-08-20T11:24:28.402786",
     "status": "completed"
    },
    "tags": []
   },
   "source": [
    "Evaluation on test set"
   ]
  },
  {
   "cell_type": "code",
   "execution_count": 12,
   "id": "b3bc303d",
   "metadata": {
    "execution": {
     "iopub.execute_input": "2025-08-20T11:24:28.420215Z",
     "iopub.status.busy": "2025-08-20T11:24:28.419526Z",
     "iopub.status.idle": "2025-08-20T11:24:28.444070Z",
     "shell.execute_reply": "2025-08-20T11:24:28.443285Z"
    },
    "papermill": {
     "duration": 0.032228,
     "end_time": "2025-08-20T11:24:28.445439",
     "exception": false,
     "start_time": "2025-08-20T11:24:28.413211",
     "status": "completed"
    },
    "tags": []
   },
   "outputs": [
    {
     "name": "stdout",
     "output_type": "stream",
     "text": [
      "Final test accuracy:  0.967\n"
     ]
    }
   ],
   "source": [
    "yt_pred = knn_prediction(x_train_s, y_train, x_test_s, k = best_k)\n",
    "test_acc = accuracy(y_test, yt_pred)\n",
    "\n",
    "print(\"Final test accuracy: \", round(test_acc, 3))"
   ]
  },
  {
   "cell_type": "markdown",
   "id": "9b2ea28c",
   "metadata": {
    "papermill": {
     "duration": 0.005199,
     "end_time": "2025-08-20T11:24:28.456208",
     "exception": false,
     "start_time": "2025-08-20T11:24:28.451009",
     "status": "completed"
    },
    "tags": []
   },
   "source": [
    "More Evaluation"
   ]
  },
  {
   "cell_type": "code",
   "execution_count": 13,
   "id": "f4b685b9",
   "metadata": {
    "execution": {
     "iopub.execute_input": "2025-08-20T11:24:28.468353Z",
     "iopub.status.busy": "2025-08-20T11:24:28.467683Z",
     "iopub.status.idle": "2025-08-20T11:24:28.473481Z",
     "shell.execute_reply": "2025-08-20T11:24:28.472635Z"
    },
    "papermill": {
     "duration": 0.013403,
     "end_time": "2025-08-20T11:24:28.474984",
     "exception": false,
     "start_time": "2025-08-20T11:24:28.461581",
     "status": "completed"
    },
    "tags": []
   },
   "outputs": [
    {
     "name": "stdout",
     "output_type": "stream",
     "text": [
      "Confusion Matrix: \n",
      " [[ 8  0  0]\n",
      " [ 0  9  0]\n",
      " [ 0  1 12]]\n"
     ]
    }
   ],
   "source": [
    "def confusion_matrix(y_true, y_predicted, classes = 3):\n",
    "    mat = np.zeros((classes, classes), dtype = int)\n",
    "\n",
    "    for t, p in zip(y_true, y_predicted):\n",
    "        mat[t, p] += 1\n",
    "\n",
    "    return mat\n",
    "\n",
    "cm = confusion_matrix(y_test, yt_pred, classes = 3)\n",
    "\n",
    "print(\"Confusion Matrix: \\n\", cm)"
   ]
  },
  {
   "cell_type": "markdown",
   "id": "64753157",
   "metadata": {
    "papermill": {
     "duration": 0.005202,
     "end_time": "2025-08-20T11:24:28.485696",
     "exception": false,
     "start_time": "2025-08-20T11:24:28.480494",
     "status": "completed"
    },
    "tags": []
   },
   "source": [
    "Precision, Recall and F1-score"
   ]
  },
  {
   "cell_type": "code",
   "execution_count": 14,
   "id": "7100dbaf",
   "metadata": {
    "execution": {
     "iopub.execute_input": "2025-08-20T11:24:28.497347Z",
     "iopub.status.busy": "2025-08-20T11:24:28.497091Z",
     "iopub.status.idle": "2025-08-20T11:24:28.502992Z",
     "shell.execute_reply": "2025-08-20T11:24:28.502283Z"
    },
    "papermill": {
     "duration": 0.013229,
     "end_time": "2025-08-20T11:24:28.504197",
     "exception": false,
     "start_time": "2025-08-20T11:24:28.490968",
     "status": "completed"
    },
    "tags": []
   },
   "outputs": [],
   "source": [
    "def precision_recall_f1(cm):\n",
    "    classes = cm.shape[0]\n",
    "    metrics = {}\n",
    "\n",
    "    for i in range(classes):\n",
    "        TP = cm[i, i]\n",
    "        FP = cm[:, i].sum() - TP\n",
    "        FN = cm[i, :].sum() - TP\n",
    "        TN = cm.sum() - (TP + FP + FN)\n",
    "\n",
    "        precision = TP / (TP + FP) if TP + FP > 0 else 0\n",
    "        recall = TP / (TP + FN) if TP + FN > 0 else 0\n",
    "        f1 = 2 * (precision * recall) / (precision + recall) if precision + recall > 0 else 0\n",
    "\n",
    "        metrics[i] = {\n",
    "            'precision': round((precision), 3),\n",
    "            'recall': round((recall), 3),\n",
    "            'f1': round((f1), 3)\n",
    "        }\n",
    "\n",
    "    return metrics"
   ]
  },
  {
   "cell_type": "markdown",
   "id": "8e297ffd",
   "metadata": {
    "papermill": {
     "duration": 0.005233,
     "end_time": "2025-08-20T11:24:28.514949",
     "exception": false,
     "start_time": "2025-08-20T11:24:28.509716",
     "status": "completed"
    },
    "tags": []
   },
   "source": [
    "Macro and micro averages"
   ]
  },
  {
   "cell_type": "code",
   "execution_count": 15,
   "id": "efb98c3b",
   "metadata": {
    "execution": {
     "iopub.execute_input": "2025-08-20T11:24:28.527389Z",
     "iopub.status.busy": "2025-08-20T11:24:28.526577Z",
     "iopub.status.idle": "2025-08-20T11:24:28.534775Z",
     "shell.execute_reply": "2025-08-20T11:24:28.533628Z"
    },
    "papermill": {
     "duration": 0.01593,
     "end_time": "2025-08-20T11:24:28.536245",
     "exception": false,
     "start_time": "2025-08-20T11:24:28.520315",
     "status": "completed"
    },
    "tags": []
   },
   "outputs": [
    {
     "name": "stdout",
     "output_type": "stream",
     "text": [
      "Average scores:  {'Macro averages ': {'precision': 0.967, 'recall': 0.974, 'f1-score': 0.969}, 'Micro averages ': {'precision': 0.967, 'recall': 0.967, 'f1-score': 0.967}}\n"
     ]
    }
   ],
   "source": [
    "def average_scores(metrics, cm):\n",
    "    # macro averages\n",
    "    macro_precision = np.mean([v[\"precision\"] for v in metrics.values()])\n",
    "    macro_recall = np.mean([v[\"recall\"] for v in metrics.values()])\n",
    "    macro_f1 = np.mean([v[\"f1\"] for v in metrics.values()])\n",
    "\n",
    "     # micro averages\n",
    "    TP = np.trace(cm)\n",
    "    FP = cm.sum(axis=0) - np.diag(cm)\n",
    "    FN = cm.sum(axis=1) - np.diag(cm)\n",
    "\n",
    "    micro_precision = TP / (TP + FP.sum())\n",
    "    micro_recall    = TP / (TP + FN.sum())\n",
    "    micro_f1        = 2 * micro_precision * micro_recall / (micro_precision + micro_recall)\n",
    "\n",
    "    return {\n",
    "        \"Macro averages \": {\n",
    "        \"precision\": round(macro_precision, 3),\n",
    "        \"recall\": round(macro_recall, 3),\n",
    "        \"f1-score\": round(macro_f1, 3)\n",
    "        },\n",
    "\n",
    "        \"Micro averages \": {\n",
    "            'precision': round(micro_precision, 3),\n",
    "            'recall': round(micro_recall, 3),\n",
    "            'f1-score': round(micro_f1, 3)\n",
    "        }\n",
    "    }\n",
    "\n",
    "metrics = precision_recall_f1(cm)\n",
    "avg_scores = average_scores(metrics, cm)\n",
    "print(\"Average scores: \", avg_scores)"
   ]
  },
  {
   "cell_type": "markdown",
   "id": "bff4e1c7",
   "metadata": {
    "papermill": {
     "duration": 0.005262,
     "end_time": "2025-08-20T11:24:28.547166",
     "exception": false,
     "start_time": "2025-08-20T11:24:28.541904",
     "status": "completed"
    },
    "tags": []
   },
   "source": [
    "Let's map our labels 0, 1 and 2 back to the flower classes"
   ]
  },
  {
   "cell_type": "code",
   "execution_count": 16,
   "id": "db4ce3cb",
   "metadata": {
    "execution": {
     "iopub.execute_input": "2025-08-20T11:24:28.559448Z",
     "iopub.status.busy": "2025-08-20T11:24:28.559146Z",
     "iopub.status.idle": "2025-08-20T11:24:28.564154Z",
     "shell.execute_reply": "2025-08-20T11:24:28.563359Z"
    },
    "papermill": {
     "duration": 0.012689,
     "end_time": "2025-08-20T11:24:28.565406",
     "exception": false,
     "start_time": "2025-08-20T11:24:28.552717",
     "status": "completed"
    },
    "tags": []
   },
   "outputs": [
    {
     "name": "stdout",
     "output_type": "stream",
     "text": [
      "Setosa: {'precision': 1.0, 'recall': 1.0, 'f1': 1.0}\n",
      "Versicolor: {'precision': 0.9, 'recall': 1.0, 'f1': 0.947}\n",
      "Virginica: {'precision': 1.0, 'recall': 0.923, 'f1': 0.96}\n"
     ]
    }
   ],
   "source": [
    "class_names = {0: 'Setosa', 1: 'Versicolor', 2: 'Virginica'}\n",
    "\n",
    "for label, vals in metrics.items():\n",
    "    print(f\"{class_names[label]}: {vals}\")"
   ]
  },
  {
   "cell_type": "markdown",
   "id": "adce9675",
   "metadata": {
    "papermill": {
     "duration": 0.005374,
     "end_time": "2025-08-20T11:24:28.576331",
     "exception": false,
     "start_time": "2025-08-20T11:24:28.570957",
     "status": "completed"
    },
    "tags": []
   },
   "source": [
    "Now let's report back everything we classified and calculated uptil now"
   ]
  },
  {
   "cell_type": "code",
   "execution_count": 17,
   "id": "2c192e95",
   "metadata": {
    "execution": {
     "iopub.execute_input": "2025-08-20T11:24:28.588676Z",
     "iopub.status.busy": "2025-08-20T11:24:28.588411Z",
     "iopub.status.idle": "2025-08-20T11:24:28.594041Z",
     "shell.execute_reply": "2025-08-20T11:24:28.593186Z"
    },
    "papermill": {
     "duration": 0.013143,
     "end_time": "2025-08-20T11:24:28.595305",
     "exception": false,
     "start_time": "2025-08-20T11:24:28.582162",
     "status": "completed"
    },
    "tags": []
   },
   "outputs": [
    {
     "name": "stdout",
     "output_type": "stream",
     "text": [
      "Confusion Matrix:\n",
      " [[ 8  0  0]\n",
      " [ 0  9  0]\n",
      " [ 0  1 12]] \n",
      "\n",
      "Per-class Metrics:\n",
      "Setosa -> {'precision': 1.0, 'recall': 1.0, 'f1': 1.0}\n",
      "Versicolor -> {'precision': 0.9, 'recall': 1.0, 'f1': 0.947}\n",
      "Virginica -> {'precision': 1.0, 'recall': 0.923, 'f1': 0.96}\n",
      "\n",
      "Overall Averages:\n",
      "{'Macro averages ': {'precision': 0.967, 'recall': 0.974, 'f1-score': 0.969}, 'Micro averages ': {'precision': 0.967, 'recall': 0.967, 'f1-score': 0.967}}\n"
     ]
    }
   ],
   "source": [
    "def classification_report(cm, avg_scores, metrics, class_names):\n",
    "    print(\"Confusion Matrix:\\n\", cm, \"\\n\")\n",
    "    print(\"Per-class Metrics:\")\n",
    "    for label, vals in metrics.items():\n",
    "        print(f\"{class_names[label]} -> {vals}\")\n",
    "    print(\"\\nOverall Averages:\")\n",
    "    print(avg_scores)\n",
    "\n",
    "classification_report(cm, avg_scores, metrics, class_names)"
   ]
  }
 ],
 "metadata": {
  "kaggle": {
   "accelerator": "none",
   "dataSources": [
    {
     "datasetId": 2354152,
     "sourceId": 3966491,
     "sourceType": "datasetVersion"
    }
   ],
   "dockerImageVersionId": 31089,
   "isGpuEnabled": false,
   "isInternetEnabled": true,
   "language": "python",
   "sourceType": "notebook"
  },
  "kernelspec": {
   "display_name": "Python 3",
   "language": "python",
   "name": "python3"
  },
  "language_info": {
   "codemirror_mode": {
    "name": "ipython",
    "version": 3
   },
   "file_extension": ".py",
   "mimetype": "text/x-python",
   "name": "python",
   "nbconvert_exporter": "python",
   "pygments_lexer": "ipython3",
   "version": "3.11.13"
  },
  "papermill": {
   "default_parameters": {},
   "duration": 7.898571,
   "end_time": "2025-08-20T11:24:29.119524",
   "environment_variables": {},
   "exception": null,
   "input_path": "__notebook__.ipynb",
   "output_path": "__notebook__.ipynb",
   "parameters": {},
   "start_time": "2025-08-20T11:24:21.220953",
   "version": "2.6.0"
  }
 },
 "nbformat": 4,
 "nbformat_minor": 5
}
